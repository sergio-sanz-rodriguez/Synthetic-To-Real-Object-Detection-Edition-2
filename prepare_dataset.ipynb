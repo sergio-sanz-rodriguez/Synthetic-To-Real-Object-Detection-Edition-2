{
 "cells": [
  {
   "cell_type": "code",
   "execution_count": 1,
   "id": "4f6b6527",
   "metadata": {},
   "outputs": [
    {
     "name": "stdout",
     "output_type": "stream",
     "text": [
      "Moved 208 training pairs and 52 validation pairs.\n",
      "Moved 194 training pairs and 49 validation pairs.\n",
      "Moved 200 training pairs and 50 validation pairs.\n",
      "Moved 196 training pairs and 50 validation pairs.\n"
     ]
    }
   ],
   "source": [
    "from pathlib import Path\n",
    "import shutil\n",
    "from sklearn.model_selection import train_test_split\n",
    "\n",
    "objects = ['cameraDistance', 'coolLighting', 'furniture', \"plants\"]\n",
    "\n",
    "# Target dirs\n",
    "train_images = Path(\"Synthetic_to_Real_Object_Detection_Full_2/data/train/images\")\n",
    "train_labels = Path(\"Synthetic_to_Real_Object_Detection_Full_2/data/train/labels\")\n",
    "val_images = Path(\"Synthetic_to_Real_Object_Detection_Full_2/data/val/images\")\n",
    "val_labels = Path(\"Synthetic_to_Real_Object_Detection_Full_2/data/val/labels\")\n",
    "\n",
    "# Create target directories if they don't exist\n",
    "for folder in [train_images, train_labels, val_images, val_labels]:\n",
    "    folder.mkdir(parents=True, exist_ok=True)\n",
    "\n",
    "for obj in objects:\n",
    "\n",
    "    # Root director\n",
    "    images_dir = Path(f\"Synthetic_to_Real_Object_Detection_Full_2/{obj}/{obj}/images\")\n",
    "    labels_dir = Path(f\"Synthetic_to_Real_Object_Detection_Full_2/{obj}/{obj}/labels\")\n",
    "\n",
    "    # Loop through all .png files recursively\n",
    "    for file_path in images_dir.rglob(\"*.png\"):\n",
    "        try:\n",
    "            grandparent_name = file_path.parent.parent.name  # Get grandparent folder\n",
    "            stem = file_path.stem\n",
    "            new_name = f\"{stem}_{grandparent_name}.png\"\n",
    "            new_path = file_path.with_name(new_name)\n",
    "            file_path.rename(new_path)        \n",
    "        except IndexError:\n",
    "            print(f\"Skipped (no grandparent): {file_path}\")\n",
    "\n",
    "    # Loop through all .png files recursively\n",
    "    for file_path in labels_dir.rglob(\"*.txt\"):\n",
    "        try:\n",
    "            grandparent_name = file_path.parent.parent.name  # Get grandparent folder\n",
    "            stem = file_path.stem\n",
    "            new_name = f\"{stem}_{grandparent_name}.txt\"\n",
    "            new_path = file_path.with_name(new_name)\n",
    "            file_path.rename(new_path)\n",
    "        except IndexError:\n",
    "            print(f\"Skipped (no grandparent): {file_path}\")\n",
    "\n",
    "    # Match images and labels by filename (without extension)\n",
    "    image_files = list(images_dir.glob(\"*.png\"))\n",
    "    label_files = list(labels_dir.glob(\"*.txt\"))\n",
    "\n",
    "    # Build list of matched pairs\n",
    "    matched_pairs = [\n",
    "        (img, labels_dir / (img.stem + \".txt\"))\n",
    "        for img in image_files\n",
    "        if (labels_dir / (img.stem + \".txt\")).exists()\n",
    "    ]\n",
    "\n",
    "    # Split the pairs\n",
    "    train_pairs, val_pairs = train_test_split(matched_pairs, test_size=0.20, random_state=42)\n",
    "\n",
    "    # Move files\n",
    "    def move_pairs(pairs, img_dest, label_dest):\n",
    "        for img_path, lbl_path in pairs:\n",
    "            shutil.copy(img_path, img_dest / img_path.name)\n",
    "            shutil.copy(lbl_path, label_dest / lbl_path.name)\n",
    "\n",
    "    move_pairs(train_pairs, train_images, train_labels)\n",
    "    move_pairs(val_pairs, val_images, val_labels)\n",
    "\n",
    "    print(f\"Moved {len(train_pairs)} training pairs and {len(val_pairs)} validation pairs.\")"
   ]
  }
 ],
 "metadata": {
  "kernelspec": {
   "display_name": ".venv_pytorch_gpu",
   "language": "python",
   "name": "python3"
  },
  "language_info": {
   "codemirror_mode": {
    "name": "ipython",
    "version": 3
   },
   "file_extension": ".py",
   "mimetype": "text/x-python",
   "name": "python",
   "nbconvert_exporter": "python",
   "pygments_lexer": "ipython3",
   "version": "3.11.10"
  }
 },
 "nbformat": 4,
 "nbformat_minor": 5
}
